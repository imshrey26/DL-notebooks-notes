{
  "nbformat": 4,
  "nbformat_minor": 0,
  "metadata": {
    "colab": {
      "provenance": []
    },
    "kernelspec": {
      "name": "python3",
      "display_name": "Python 3"
    },
    "language_info": {
      "name": "python"
    }
  },
  "cells": [
    {
      "cell_type": "code",
      "execution_count": 1,
      "metadata": {
        "id": "lgnPvgw8DyOq"
      },
      "outputs": [],
      "source": [
        "import numpy as np\n",
        "import pandas as pd"
      ]
    },
    {
      "cell_type": "code",
      "source": [
        "df = pd.DataFrame([[8,8,4],[7,9,5],[6,10,6],[5,12,7]], columns=['cgpa', 'profile_score', 'lpa'])"
      ],
      "metadata": {
        "id": "iznsv0cPD4N2"
      },
      "execution_count": 2,
      "outputs": []
    },
    {
      "cell_type": "code",
      "source": [
        "df"
      ],
      "metadata": {
        "colab": {
          "base_uri": "https://localhost:8080/",
          "height": 175
        },
        "id": "Icg8cssxEJ4U",
        "outputId": "67db6f3a-3a8d-426c-92b8-a859d0bce73d"
      },
      "execution_count": 3,
      "outputs": [
        {
          "output_type": "execute_result",
          "data": {
            "text/plain": [
              "   cgpa  profile_score  lpa\n",
              "0     8              8    4\n",
              "1     7              9    5\n",
              "2     6             10    6\n",
              "3     5             12    7"
            ],
            "text/html": [
              "\n",
              "  <div id=\"df-ed4956a1-0ce7-459f-976f-37565137685b\">\n",
              "    <div class=\"colab-df-container\">\n",
              "      <div>\n",
              "<style scoped>\n",
              "    .dataframe tbody tr th:only-of-type {\n",
              "        vertical-align: middle;\n",
              "    }\n",
              "\n",
              "    .dataframe tbody tr th {\n",
              "        vertical-align: top;\n",
              "    }\n",
              "\n",
              "    .dataframe thead th {\n",
              "        text-align: right;\n",
              "    }\n",
              "</style>\n",
              "<table border=\"1\" class=\"dataframe\">\n",
              "  <thead>\n",
              "    <tr style=\"text-align: right;\">\n",
              "      <th></th>\n",
              "      <th>cgpa</th>\n",
              "      <th>profile_score</th>\n",
              "      <th>lpa</th>\n",
              "    </tr>\n",
              "  </thead>\n",
              "  <tbody>\n",
              "    <tr>\n",
              "      <th>0</th>\n",
              "      <td>8</td>\n",
              "      <td>8</td>\n",
              "      <td>4</td>\n",
              "    </tr>\n",
              "    <tr>\n",
              "      <th>1</th>\n",
              "      <td>7</td>\n",
              "      <td>9</td>\n",
              "      <td>5</td>\n",
              "    </tr>\n",
              "    <tr>\n",
              "      <th>2</th>\n",
              "      <td>6</td>\n",
              "      <td>10</td>\n",
              "      <td>6</td>\n",
              "    </tr>\n",
              "    <tr>\n",
              "      <th>3</th>\n",
              "      <td>5</td>\n",
              "      <td>12</td>\n",
              "      <td>7</td>\n",
              "    </tr>\n",
              "  </tbody>\n",
              "</table>\n",
              "</div>\n",
              "      <button class=\"colab-df-convert\" onclick=\"convertToInteractive('df-ed4956a1-0ce7-459f-976f-37565137685b')\"\n",
              "              title=\"Convert this dataframe to an interactive table.\"\n",
              "              style=\"display:none;\">\n",
              "        \n",
              "  <svg xmlns=\"http://www.w3.org/2000/svg\" height=\"24px\"viewBox=\"0 0 24 24\"\n",
              "       width=\"24px\">\n",
              "    <path d=\"M0 0h24v24H0V0z\" fill=\"none\"/>\n",
              "    <path d=\"M18.56 5.44l.94 2.06.94-2.06 2.06-.94-2.06-.94-.94-2.06-.94 2.06-2.06.94zm-11 1L8.5 8.5l.94-2.06 2.06-.94-2.06-.94L8.5 2.5l-.94 2.06-2.06.94zm10 10l.94 2.06.94-2.06 2.06-.94-2.06-.94-.94-2.06-.94 2.06-2.06.94z\"/><path d=\"M17.41 7.96l-1.37-1.37c-.4-.4-.92-.59-1.43-.59-.52 0-1.04.2-1.43.59L10.3 9.45l-7.72 7.72c-.78.78-.78 2.05 0 2.83L4 21.41c.39.39.9.59 1.41.59.51 0 1.02-.2 1.41-.59l7.78-7.78 2.81-2.81c.8-.78.8-2.07 0-2.86zM5.41 20L4 18.59l7.72-7.72 1.47 1.35L5.41 20z\"/>\n",
              "  </svg>\n",
              "      </button>\n",
              "      \n",
              "  <style>\n",
              "    .colab-df-container {\n",
              "      display:flex;\n",
              "      flex-wrap:wrap;\n",
              "      gap: 12px;\n",
              "    }\n",
              "\n",
              "    .colab-df-convert {\n",
              "      background-color: #E8F0FE;\n",
              "      border: none;\n",
              "      border-radius: 50%;\n",
              "      cursor: pointer;\n",
              "      display: none;\n",
              "      fill: #1967D2;\n",
              "      height: 32px;\n",
              "      padding: 0 0 0 0;\n",
              "      width: 32px;\n",
              "    }\n",
              "\n",
              "    .colab-df-convert:hover {\n",
              "      background-color: #E2EBFA;\n",
              "      box-shadow: 0px 1px 2px rgba(60, 64, 67, 0.3), 0px 1px 3px 1px rgba(60, 64, 67, 0.15);\n",
              "      fill: #174EA6;\n",
              "    }\n",
              "\n",
              "    [theme=dark] .colab-df-convert {\n",
              "      background-color: #3B4455;\n",
              "      fill: #D2E3FC;\n",
              "    }\n",
              "\n",
              "    [theme=dark] .colab-df-convert:hover {\n",
              "      background-color: #434B5C;\n",
              "      box-shadow: 0px 1px 3px 1px rgba(0, 0, 0, 0.15);\n",
              "      filter: drop-shadow(0px 1px 2px rgba(0, 0, 0, 0.3));\n",
              "      fill: #FFFFFF;\n",
              "    }\n",
              "  </style>\n",
              "\n",
              "      <script>\n",
              "        const buttonEl =\n",
              "          document.querySelector('#df-ed4956a1-0ce7-459f-976f-37565137685b button.colab-df-convert');\n",
              "        buttonEl.style.display =\n",
              "          google.colab.kernel.accessAllowed ? 'block' : 'none';\n",
              "\n",
              "        async function convertToInteractive(key) {\n",
              "          const element = document.querySelector('#df-ed4956a1-0ce7-459f-976f-37565137685b');\n",
              "          const dataTable =\n",
              "            await google.colab.kernel.invokeFunction('convertToInteractive',\n",
              "                                                     [key], {});\n",
              "          if (!dataTable) return;\n",
              "\n",
              "          const docLinkHtml = 'Like what you see? Visit the ' +\n",
              "            '<a target=\"_blank\" href=https://colab.research.google.com/notebooks/data_table.ipynb>data table notebook</a>'\n",
              "            + ' to learn more about interactive tables.';\n",
              "          element.innerHTML = '';\n",
              "          dataTable['output_type'] = 'display_data';\n",
              "          await google.colab.output.renderOutput(dataTable, element);\n",
              "          const docLink = document.createElement('div');\n",
              "          docLink.innerHTML = docLinkHtml;\n",
              "          element.appendChild(docLink);\n",
              "        }\n",
              "      </script>\n",
              "    </div>\n",
              "  </div>\n",
              "  "
            ]
          },
          "metadata": {},
          "execution_count": 3
        }
      ]
    },
    {
      "cell_type": "code",
      "source": [
        "def initialize_parameters(layer_dims):\n",
        "\n",
        "  \"\"\"Input the architecture dimensions with (input layers, hidden layers,output layers)such that it can initialize the weights and biases\"\"\"\n",
        "  \n",
        "  np.random.seed(3)\n",
        "  parameters = {}\n",
        "  L = len(layer_dims)         \n",
        "\n",
        "  for l in range(1, L):\n",
        "\n",
        "    parameters['W' + str(l)] = np.ones((layer_dims[l-1], layer_dims[l]))*0.1 # will create weights based on number of input layers and hidden layers\n",
        "    parameters['b' + str(l)] = np.zeros((layer_dims[l], 1)) # will initiate one bias for each neuron\n",
        "      \n",
        "\n",
        "  return parameters"
      ],
      "metadata": {
        "id": "gOL7f79VEKQn"
      },
      "execution_count": 7,
      "outputs": []
    },
    {
      "cell_type": "code",
      "source": [
        "initialize_parameters([2,2,1])  # will create 9 weights and biases # W1 is the weights of all the neural network b/w the input layers and hidden layers while W2 is weights of all neural network b/w hiddden layer and output layer"
      ],
      "metadata": {
        "colab": {
          "base_uri": "https://localhost:8080/"
        },
        "id": "VkduRBgNIp-z",
        "outputId": "f89095da-6dac-4576-a774-9b9fcdb72ed6"
      },
      "execution_count": 5,
      "outputs": [
        {
          "output_type": "execute_result",
          "data": {
            "text/plain": [
              "{'W1': array([[0.1, 0.1],\n",
              "        [0.1, 0.1]]),\n",
              " 'b1': array([[0.],\n",
              "        [0.]]),\n",
              " 'W2': array([[0.1],\n",
              "        [0.1]]),\n",
              " 'b2': array([[0.]])}"
            ]
          },
          "metadata": {},
          "execution_count": 5
        }
      ]
    },
    {
      "cell_type": "code",
      "source": [
        "def linear_forward(A_prev, W, b):\n",
        "  \n",
        "  Z = np.dot(W.T, A_prev) + b\n",
        "  \n",
        "  return Z"
      ],
      "metadata": {
        "id": "ZghmdgJzEg0D"
      },
      "execution_count": 6,
      "outputs": []
    },
    {
      "cell_type": "code",
      "source": [
        "# Forward Prop\n",
        "def L_layer_forward(X, parameters):\n",
        "\n",
        "  A = X\n",
        "  L = len(parameters) // 2                  # number of layers in the neural network\n",
        "  \n",
        "  for l in range(1, L+1):\n",
        "    A_prev = A \n",
        "    Wl = parameters['W' + str(l)]\n",
        "    bl = parameters['b' + str(l)]\n",
        "    print(\"A\"+str(l-1)+\": \", A_prev)\n",
        "    print(\"W\"+str(l)+\": \", Wl)\n",
        "    print(\"b\"+str(l)+\": \", bl)\n",
        "    print(\"--\"*20)\n",
        "\n",
        "    A = linear_forward(A_prev, Wl, bl)\n",
        "    print(\"A\"+str(l)+\": \", A)\n",
        "    print(\"**\"*20)\n",
        "          \n",
        "  return A,A_prev"
      ],
      "metadata": {
        "id": "5n5DFL99Gacw"
      },
      "execution_count": 10,
      "outputs": []
    },
    {
      "cell_type": "code",
      "source": [
        "X = df[['cgpa', 'profile_score']].values[0].reshape(2,1) # Shape(no of features, no. of training example)\n",
        "y = df[['lpa']].values[0][0]\n",
        "\n",
        "# Parameter initialization\n",
        "parameters = initialize_parameters([2,2,1])\n",
        "\n",
        "y_hat,A1 = L_layer_forward(X, parameters)"
      ],
      "metadata": {
        "colab": {
          "base_uri": "https://localhost:8080/"
        },
        "id": "5ijULWqvJu0O",
        "outputId": "03ad0c5e-4aa7-402b-f69c-c10a73e93865"
      },
      "execution_count": 14,
      "outputs": [
        {
          "output_type": "stream",
          "name": "stdout",
          "text": [
            "A0:  [[8]\n",
            " [8]]\n",
            "W1:  [[0.1 0.1]\n",
            " [0.1 0.1]]\n",
            "b1:  [[0.]\n",
            " [0.]]\n",
            "----------------------------------------\n",
            "A1:  [[1.6]\n",
            " [1.6]]\n",
            "****************************************\n",
            "A1:  [[1.6]\n",
            " [1.6]]\n",
            "W2:  [[0.1]\n",
            " [0.1]]\n",
            "b2:  [[0.]]\n",
            "----------------------------------------\n",
            "A2:  [[0.32]]\n",
            "****************************************\n"
          ]
        }
      ]
    },
    {
      "cell_type": "code",
      "source": [
        "y_hat = y_hat[0][0]"
      ],
      "metadata": {
        "id": "ZrhNecsGML3E"
      },
      "execution_count": 17,
      "outputs": []
    },
    {
      "cell_type": "code",
      "source": [
        "A1"
      ],
      "metadata": {
        "colab": {
          "base_uri": "https://localhost:8080/"
        },
        "id": "fWPvGGQcJ-Wq",
        "outputId": "8507f2bb-6b01-4eee-86d3-85a193e704a4"
      },
      "execution_count": 18,
      "outputs": [
        {
          "output_type": "execute_result",
          "data": {
            "text/plain": [
              "array([[1.6],\n",
              "       [1.6]])"
            ]
          },
          "metadata": {},
          "execution_count": 18
        }
      ]
    },
    {
      "cell_type": "code",
      "source": [
        "update_parameters(parameters,y,y_hat,A1,X)"
      ],
      "metadata": {
        "id": "EQWgVKAyNIr2"
      },
      "execution_count": 22,
      "outputs": []
    },
    {
      "cell_type": "code",
      "source": [
        "parameters"
      ],
      "metadata": {
        "colab": {
          "base_uri": "https://localhost:8080/"
        },
        "id": "sTSNat7KNTm7",
        "outputId": "07bfce26-084f-4341-8d82-381886689fa4"
      },
      "execution_count": 23,
      "outputs": [
        {
          "output_type": "execute_result",
          "data": {
            "text/plain": [
              "{'W1': array([[0.10727474, 0.10727474],\n",
              "        [0.10727474, 0.10727474]]),\n",
              " 'b1': array([[0.00090934],\n",
              "        [0.00090934]]),\n",
              " 'W2': array([[0.123552],\n",
              "        [0.123552]]),\n",
              " 'b2': array([[0.00736]])}"
            ]
          },
          "metadata": {},
          "execution_count": 23
        }
      ]
    },
    {
      "cell_type": "code",
      "source": [
        "X = df[['cgpa', 'profile_score']].values[1].reshape(2,1) # Shape(no of features, no. of training example)\n",
        "y = df[['lpa']].values[1][0]\n",
        "\n",
        "y_hat,A1 = L_layer_forward(X, parameters)"
      ],
      "metadata": {
        "colab": {
          "base_uri": "https://localhost:8080/"
        },
        "id": "bT36dOGNNijU",
        "outputId": "18cf8809-f968-4097-bf0f-a08ae74bd3f6"
      },
      "execution_count": 24,
      "outputs": [
        {
          "output_type": "stream",
          "name": "stdout",
          "text": [
            "A0:  [[7]\n",
            " [9]]\n",
            "W1:  [[0.10727474 0.10727474]\n",
            " [0.10727474 0.10727474]]\n",
            "b1:  [[0.00090934]\n",
            " [0.00090934]]\n",
            "----------------------------------------\n",
            "A1:  [[1.71730521]\n",
            " [1.71730521]]\n",
            "****************************************\n",
            "A1:  [[1.71730521]\n",
            " [1.71730521]]\n",
            "W2:  [[0.123552]\n",
            " [0.123552]]\n",
            "b2:  [[0.00736]]\n",
            "----------------------------------------\n",
            "A2:  [[0.43171299]]\n",
            "****************************************\n"
          ]
        }
      ]
    },
    {
      "cell_type": "code",
      "source": [
        "update_parameters(parameters,y,y_hat,A1,X)"
      ],
      "metadata": {
        "id": "kXN473kWNq2F"
      },
      "execution_count": 26,
      "outputs": []
    },
    {
      "cell_type": "code",
      "source": [
        "parameters"
      ],
      "metadata": {
        "colab": {
          "base_uri": "https://localhost:8080/"
        },
        "id": "2kQd3X5qPqZC",
        "outputId": "9e2066cf-54f9-4587-ecff-69c0ced971d9"
      },
      "execution_count": 27,
      "outputs": [
        {
          "output_type": "execute_result",
          "data": {
            "text/plain": [
              "{'W1': array([[0.11680833, 0.12316406],\n",
              "        [0.11680833, 0.12316406]]),\n",
              " 'b1': array([[0.00249827],\n",
              "        [0.00249827]]),\n",
              " 'W2': array([[0.1426769],\n",
              "        [0.1426769]]),\n",
              " 'b2': array([[0.01849657]])}"
            ]
          },
          "metadata": {},
          "execution_count": 27
        }
      ]
    },
    {
      "cell_type": "code",
      "source": [
        "X = df[['cgpa', 'profile_score']].values[2].reshape(2,1) # Shape(no of features, no. of training example)\n",
        "y = df[['lpa']].values[2][0]\n",
        "\n",
        "y_hat,A1 = L_layer_forward(X, parameters)"
      ],
      "metadata": {
        "colab": {
          "base_uri": "https://localhost:8080/"
        },
        "id": "ki5BgbCxPaTY",
        "outputId": "62728fe1-ab1b-44b7-f122-f6c3ca5e8303"
      },
      "execution_count": 31,
      "outputs": [
        {
          "output_type": "stream",
          "name": "stdout",
          "text": [
            "A0:  [[ 6]\n",
            " [10]]\n",
            "W1:  [[0.11680833 0.12316406]\n",
            " [0.11680833 0.12316406]]\n",
            "b1:  [[0.00249827]\n",
            " [0.00249827]]\n",
            "----------------------------------------\n",
            "A1:  [[1.8714316 ]\n",
            " [1.97312323]]\n",
            "****************************************\n",
            "A1:  [[1.8714316 ]\n",
            " [1.97312323]]\n",
            "W2:  [[0.1426769]\n",
            " [0.1426769]]\n",
            "b2:  [[0.01849657]]\n",
            "----------------------------------------\n",
            "A2:  [[0.56702573]]\n",
            "****************************************\n"
          ]
        }
      ]
    },
    {
      "cell_type": "code",
      "source": [
        "update_parameters(parameters,y,y_hat,A1,X)"
      ],
      "metadata": {
        "id": "7WSI6vX9P_W3"
      },
      "execution_count": 32,
      "outputs": []
    },
    {
      "cell_type": "code",
      "source": [
        "parameters"
      ],
      "metadata": {
        "colab": {
          "base_uri": "https://localhost:8080/"
        },
        "id": "hjKso9pQNti8",
        "outputId": "b62e7cfc-c8b1-4f23-b85a-fd6d9b9476a5"
      },
      "execution_count": 33,
      "outputs": [
        {
          "output_type": "execute_result",
          "data": {
            "text/plain": [
              "{'W1': array([[0.127436  , 0.14087684],\n",
              "        [0.12750804, 0.1409969 ]]),\n",
              " 'b1': array([[0.00426955],\n",
              "        [0.00428156]]),\n",
              " 'W2': array([[0.16301178],\n",
              "        [0.16411675]]),\n",
              " 'b2': array([[0.02936252]])}"
            ]
          },
          "metadata": {},
          "execution_count": 33
        }
      ]
    },
    {
      "cell_type": "code",
      "source": [
        "X = df[['cgpa', 'profile_score']].values[3].reshape(2,1) # Shape(no of features, no. of training example)\n",
        "y = df[['lpa']].values[3][0]\n",
        "\n",
        "y_hat,A1 = L_layer_forward(X, parameters)"
      ],
      "metadata": {
        "colab": {
          "base_uri": "https://localhost:8080/"
        },
        "id": "-aovho8TPzpK",
        "outputId": "0b225798-0066-4ab7-c378-d64f34a9496f"
      },
      "execution_count": 34,
      "outputs": [
        {
          "output_type": "stream",
          "name": "stdout",
          "text": [
            "A0:  [[ 5]\n",
            " [12]]\n",
            "W1:  [[0.127436   0.14087684]\n",
            " [0.12750804 0.1409969 ]]\n",
            "b1:  [[0.00426955]\n",
            " [0.00428156]]\n",
            "----------------------------------------\n",
            "A1:  [[2.171546  ]\n",
            " [2.40062856]]\n",
            "****************************************\n",
            "A1:  [[2.171546  ]\n",
            " [2.40062856]]\n",
            "W2:  [[0.16301178]\n",
            " [0.16411675]]\n",
            "b2:  [[0.02936252]]\n",
            "----------------------------------------\n",
            "A2:  [[0.77733345]]\n",
            "****************************************\n"
          ]
        }
      ]
    },
    {
      "cell_type": "code",
      "source": [
        "update_parameters(parameters,y,y_hat,A1,X)"
      ],
      "metadata": {
        "id": "0vy0sMWaPz2q"
      },
      "execution_count": 35,
      "outputs": []
    },
    {
      "cell_type": "code",
      "source": [
        "parameters"
      ],
      "metadata": {
        "colab": {
          "base_uri": "https://localhost:8080/"
        },
        "id": "Vn7Dqa-HP0Cr",
        "outputId": "3e1aff88-6555-44ef-d4b2-26fe6138a347"
      },
      "execution_count": 36,
      "outputs": [
        {
          "output_type": "execute_result",
          "data": {
            "text/plain": [
              "{'W1': array([[0.13926139, 0.16925778],\n",
              "        [0.1395796 , 0.16996865]]),\n",
              " 'b1': array([[0.00663463],\n",
              "        [0.00669587]]),\n",
              " 'W2': array([[0.19003739],\n",
              "        [0.19399337]]),\n",
              " 'b2': array([[0.04180786]])}"
            ]
          },
          "metadata": {},
          "execution_count": 36
        }
      ]
    },
    {
      "cell_type": "code",
      "source": [
        "def update_parameters(parameters,y,y_hat,A1,X):\n",
        "  parameters['W2'][0][0] = parameters['W2'][0][0] + (0.001 * 2 * (y - y_hat)*A1[0][0])\n",
        "  parameters['W2'][1][0] = parameters['W2'][1][0] + (0.001 * 2 * (y - y_hat)*A1[1][0])\n",
        "  parameters['b2'][0][0] = parameters['b2'][0][0] + (0.001 * 2 * (y - y_hat))\n",
        "\n",
        "  parameters['W1'][0][0] = parameters['W1'][0][0] + (0.001 * 2 * (y - y_hat)*parameters['W2'][0][0]*X[0][0])\n",
        "  parameters['W1'][0][1] = parameters['W1'][0][1] + (0.001 * 2 * (y - y_hat)*parameters['W2'][0][0]*X[1][0])\n",
        "  parameters['b1'][0][0] = parameters['b1'][0][0] + (0.001 * 2 * (y - y_hat)*parameters['W2'][0][0])\n",
        "\n",
        "  parameters['W1'][1][0] = parameters['W1'][1][0] + (0.001 * 2 * (y - y_hat)*parameters['W2'][1][0]*X[0][0])\n",
        "  parameters['W1'][1][1] = parameters['W1'][1][1] + (0.001 * 2 * (y - y_hat)*parameters['W2'][1][0]*X[1][0])\n",
        "  parameters['b1'][1][0] = parameters['b1'][1][0] + (0.001 * 2 * (y - y_hat)*parameters['W2'][1][0])"
      ],
      "metadata": {
        "id": "zyWoiZWYL8ft"
      },
      "execution_count": 21,
      "outputs": []
    },
    {
      "cell_type": "code",
      "source": [
        "X = df[['cgpa', 'profile_score']].values[0].reshape(2,1) # Shape(no of features, no. of training example)\n",
        "y = df[['lpa']].values[0][0]\n",
        "\n",
        "# Parameter initialization\n",
        "parameters = initialize_parameters([2,2,1])\n",
        "\n",
        "y_hat,A1 = L_layer_forward(X,parameters)\n",
        "y_hat = y_hat[0][0]\n",
        "\n",
        "update_parameters(parameters,y,y_hat,A1,X)\n",
        "\n",
        "parameters"
      ],
      "metadata": {
        "colab": {
          "base_uri": "https://localhost:8080/"
        },
        "id": "y-gTVDlsYoFm",
        "outputId": "f594df70-332f-4144-e903-870185a4a1a5"
      },
      "execution_count": null,
      "outputs": [
        {
          "output_type": "execute_result",
          "data": {
            "text/plain": [
              "{'W1': array([[0.10658137, 0.10658137],\n",
              "        [0.10658137, 0.10658137]]), 'W2': array([[0.111776],\n",
              "        [0.111776]]), 'b1': array([[0.00082267],\n",
              "        [0.00082267]]), 'b2': array([[0.119136]])}"
            ]
          },
          "metadata": {},
          "execution_count": 8
        }
      ]
    },
    {
      "cell_type": "code",
      "source": [
        "X = df[['cgpa', 'profile_score']].values[1].reshape(2,1) # Shape(no of features, no. of training exaplme)\n",
        "y = df[['lpa']].values[1][0]\n",
        "\n",
        "y_hat,A1 = L_layer_forward(X,parameters)\n",
        "y_hat = y_hat[0][0]\n",
        "\n",
        "update_parameters(parameters,y,y_hat,A1,X)\n",
        "\n",
        "parameters"
      ],
      "metadata": {
        "colab": {
          "base_uri": "https://localhost:8080/"
        },
        "id": "jgrNh8YGexbz",
        "outputId": "8518ae78-89b3-49aa-9f31-efe95ac3e949"
      },
      "execution_count": null,
      "outputs": [
        {
          "output_type": "execute_result",
          "data": {
            "text/plain": [
              "{'W1': array([[0.11458955, 0.1168776 ],\n",
              "        [0.11458955, 0.1168776 ]]), 'W2': array([[0.12712927],\n",
              "        [0.12712927]]), 'b1': array([[0.0019667],\n",
              "        [0.0019667]]), 'b2': array([[0.13612818]])}"
            ]
          },
          "metadata": {},
          "execution_count": 69
        }
      ]
    },
    {
      "cell_type": "code",
      "source": [
        "X = df[['cgpa', 'profile_score']].values[2].reshape(2,1) # Shape(no of features, no. of training exaplme)\n",
        "y = df[['lpa']].values[2][0]\n",
        "\n",
        "y_hat,A1 = L_layer_forward(X,parameters)\n",
        "y_hat = y_hat[0][0]\n",
        "\n",
        "update_parameters(parameters,y,y_hat,A1,X)\n",
        "\n",
        "parameters"
      ],
      "metadata": {
        "colab": {
          "base_uri": "https://localhost:8080/"
        },
        "id": "7QAO9dunfCPn",
        "outputId": "8b5f3eb6-7d5e-4454-86ac-67e7d91ed899"
      },
      "execution_count": null,
      "outputs": [
        {
          "output_type": "execute_result",
          "data": {
            "text/plain": [
              "{'W1': array([[0.12409711, 0.13272353],\n",
              "        [0.12412266, 0.13276611]]), 'W2': array([[0.14692424],\n",
              "        [0.14731907]]), 'b1': array([[0.00355129],\n",
              "        [0.00355555]]), 'b2': array([[0.15810417]])}"
            ]
          },
          "metadata": {},
          "execution_count": 70
        }
      ]
    },
    {
      "cell_type": "code",
      "source": [
        "X = df[['cgpa', 'profile_score']].values[3].reshape(2,1) # Shape(no of features, no. of training exaplme)\n",
        "y = df[['lpa']].values[3][0]\n",
        "\n",
        "y_hat,A1 = L_layer_forward(X,parameters)\n",
        "y_hat = y_hat[0][0]\n",
        "\n",
        "update_parameters(parameters,y,y_hat,A1,X)\n",
        "\n",
        "parameters"
      ],
      "metadata": {
        "colab": {
          "base_uri": "https://localhost:8080/"
        },
        "id": "vog84hecfGI7",
        "outputId": "09e6fcb3-2534-468f-e5f5-89e4743097d4"
      },
      "execution_count": null,
      "outputs": [
        {
          "output_type": "execute_result",
          "data": {
            "text/plain": [
              "{'W1': array([[0.13482804, 0.15847776],\n",
              "        [0.1349909 , 0.15884991]]), 'W2': array([[0.17312488],\n",
              "        [0.17534027]]), 'b1': array([[0.00569748],\n",
              "        [0.0057292 ]]), 'b2': array([[0.18773702]])}"
            ]
          },
          "metadata": {},
          "execution_count": 71
        }
      ]
    },
    {
      "cell_type": "code",
      "source": [
        "# epochs implementation\n",
        "\n",
        "parameters = initialize_parameters([2,2,1])\n",
        "epochs = 5\n",
        "\n",
        "for i in range(epochs):\n",
        "\n",
        "  Loss = []\n",
        "\n",
        "  for j in range(df.shape[0]):\n",
        "\n",
        "    X = df[['cgpa', 'profile_score']].values[j].reshape(2,1) # Shape(no of features, no. of training example)\n",
        "    y = df[['lpa']].values[j][0]\n",
        "\n",
        "    # Parameter initialization\n",
        "\n",
        "\n",
        "    y_hat,A1 = L_layer_forward(X,parameters)\n",
        "    y_hat = y_hat[0][0]\n",
        "\n",
        "    update_parameters(parameters,y,y_hat,A1,X)\n",
        "\n",
        "    Loss.append((y-y_hat)**2)\n",
        "\n",
        "  print('Epoch - ',i+1,'Loss - ',np.array(Loss).mean())\n",
        "\n",
        "parameters"
      ],
      "metadata": {
        "id": "S-ZcZmJafwkc",
        "colab": {
          "base_uri": "https://localhost:8080/"
        },
        "outputId": "4535b1a1-18f9-4a88-bdac-36e148bbe7d5"
      },
      "execution_count": 37,
      "outputs": [
        {
          "output_type": "stream",
          "name": "stdout",
          "text": [
            "A0:  [[8]\n",
            " [8]]\n",
            "W1:  [[0.1 0.1]\n",
            " [0.1 0.1]]\n",
            "b1:  [[0.]\n",
            " [0.]]\n",
            "----------------------------------------\n",
            "A1:  [[1.6]\n",
            " [1.6]]\n",
            "****************************************\n",
            "A1:  [[1.6]\n",
            " [1.6]]\n",
            "W2:  [[0.1]\n",
            " [0.1]]\n",
            "b2:  [[0.]]\n",
            "----------------------------------------\n",
            "A2:  [[0.32]]\n",
            "****************************************\n",
            "A0:  [[7]\n",
            " [9]]\n",
            "W1:  [[0.10658137 0.10658137]\n",
            " [0.10658137 0.10658137]]\n",
            "b1:  [[0.00082267]\n",
            " [0.00082267]]\n",
            "----------------------------------------\n",
            "A1:  [[1.70612461]\n",
            " [1.70612461]]\n",
            "****************************************\n",
            "A1:  [[1.70612461]\n",
            " [1.70612461]]\n",
            "W2:  [[0.111776]\n",
            " [0.111776]]\n",
            "b2:  [[0.00736]]\n",
            "----------------------------------------\n",
            "A2:  [[0.38876757]]\n",
            "****************************************\n",
            "A0:  [[ 6]\n",
            " [10]]\n",
            "W1:  [[0.11481311 0.11716504]\n",
            " [0.11481311 0.11716504]]\n",
            "b1:  [[0.00199863]\n",
            " [0.00199863]]\n",
            "----------------------------------------\n",
            "A1:  [[1.83900839]\n",
            " [1.8766392 ]]\n",
            "****************************************\n",
            "A1:  [[1.83900839]\n",
            " [1.8766392 ]]\n",
            "W2:  [[0.12751067]\n",
            " [0.12751067]]\n",
            "b2:  [[0.01658246]]\n",
            "----------------------------------------\n",
            "A2:  [[0.49036719]]\n",
            "****************************************\n",
            "A0:  [[ 5]\n",
            " [12]]\n",
            "W1:  [[0.12458335 0.13344878]\n",
            " [0.12461077 0.13349447]]\n",
            "b1:  [[0.00362701]\n",
            " [0.00363158]]\n",
            "----------------------------------------\n",
            "A1:  [[2.12187303]\n",
            " [2.2728091 ]]\n",
            "****************************************\n",
            "A1:  [[2.12187303]\n",
            " [2.2728091 ]]\n",
            "W2:  [[0.1477752 ]\n",
            " [0.14818986]]\n",
            "b2:  [[0.02760173]]\n",
            "----------------------------------------\n",
            "A2:  [[0.6779692]]\n",
            "****************************************\n",
            "Epoch -  1 Loss -  26.28249792398698\n",
            "A0:  [[8]\n",
            " [8]]\n",
            "W1:  [[0.13562189 0.15994127]\n",
            " [0.13579618 0.16033944]]\n",
            "b1:  [[0.00583472]\n",
            " [0.00586866]]\n",
            "----------------------------------------\n",
            "A1:  [[2.17717925]\n",
            " [2.56811431]]\n",
            "****************************************\n",
            "A1:  [[2.17717925]\n",
            " [2.56811431]]\n",
            "W2:  [[0.17460429]\n",
            " [0.1769274 ]]\n",
            "b2:  [[0.04024579]]\n",
            "----------------------------------------\n",
            "A2:  [[0.87476041]]\n",
            "****************************************\n",
            "A0:  [[7]\n",
            " [9]]\n",
            "W1:  [[0.14503325 0.16935262]\n",
            " [0.14544588 0.16998915]]\n",
            "b1:  [[0.00701114]\n",
            " [0.00707487]]\n",
            "----------------------------------------\n",
            "A1:  [[2.33125681]\n",
            " [2.72244555]]\n",
            "****************************************\n",
            "A1:  [[2.33125681]\n",
            " [2.72244555]]\n",
            "W2:  [[0.1882127 ]\n",
            " [0.19297934]]\n",
            "b2:  [[0.04649627]]\n",
            "----------------------------------------\n",
            "A2:  [[1.01064417]]\n",
            "****************************************\n",
            "A0:  [[ 6]\n",
            " [10]]\n",
            "W1:  [[0.15658396 0.18420354]\n",
            " [0.15743714 0.18540648]]\n",
            "b1:  [[0.00866124]\n",
            " [0.00878791]]\n",
            "----------------------------------------\n",
            "A1:  [[2.52253643]\n",
            " [2.96807397]]\n",
            "****************************************\n",
            "A1:  [[2.52253643]\n",
            " [2.96807397]]\n",
            "W2:  [[0.20681313]\n",
            " [0.21470095]]\n",
            "b2:  [[0.05447498]]\n",
            "----------------------------------------\n",
            "A2:  [[1.21341694]]\n",
            "****************************************\n",
            "A0:  [[ 5]\n",
            " [12]]\n",
            "W1:  [[0.16985018 0.2063139 ]\n",
            " [0.17140141 0.20868027]]\n",
            "b1:  [[0.01087227]\n",
            " [0.01111529]]\n",
            "----------------------------------------\n",
            "A1:  [[2.91694011]\n",
            " [3.54684797]]\n",
            "****************************************\n",
            "A1:  [[2.91694011]\n",
            " [3.54684797]]\n",
            "W2:  [[0.23096179]\n",
            " [0.24311482]]\n",
            "b2:  [[0.06404815]]\n",
            "----------------------------------------\n",
            "A2:  [[1.60004115]]\n",
            "****************************************\n",
            "Epoch -  2 Loss -  19.438253848220803\n",
            "A0:  [[8]\n",
            " [8]]\n",
            "W1:  [[0.18402315 0.24032904]\n",
            " [0.186598   0.24515208]]\n",
            "b1:  [[0.01370687]\n",
            " [0.01415461]]\n",
            "----------------------------------------\n",
            "A1:  [[2.97867611]\n",
            " [3.89800358]]\n",
            "****************************************\n",
            "A1:  [[2.97867611]\n",
            " [3.89800358]]\n",
            "W2:  [[0.2624645 ]\n",
            " [0.28142048]]\n",
            "b2:  [[0.07484807]]\n",
            "----------------------------------------\n",
            "A2:  [[1.95362286]]\n",
            "****************************************\n",
            "A0:  [[7]\n",
            " [9]]\n",
            "W1:  [[0.19301593 0.24932182]\n",
            " [0.19633463 0.25488871]]\n",
            "b1:  [[0.01483097]\n",
            " [0.01537168]]\n",
            "----------------------------------------\n",
            "A1:  [[3.1329542 ]\n",
            " [4.05462284]]\n",
            "****************************************\n",
            "A1:  [[3.1329542 ]\n",
            " [4.05462284]]\n",
            "W2:  [[0.27465549]\n",
            " [0.29737405]]\n",
            "b2:  [[0.07894082]]\n",
            "----------------------------------------\n",
            "A2:  [[2.14516353]]\n",
            "****************************************\n",
            "A0:  [[ 6]\n",
            " [10]]\n",
            "W1:  [[0.20470823 0.26435477]\n",
            " [0.20914527 0.27135953]]\n",
            "b1:  [[0.01650129]\n",
            " [0.01720178]]\n",
            "----------------------------------------\n",
            "A1:  [[3.33620338]\n",
            " [4.31692573]]\n",
            "****************************************\n",
            "A1:  [[3.33620338]\n",
            " [4.31692573]]\n",
            "W2:  [[0.29254364]\n",
            " [0.32052462]]\n",
            "b2:  [[0.08465049]]\n",
            "----------------------------------------\n",
            "A2:  [[2.44431656]]\n",
            "****************************************\n",
            "A0:  [[ 5]\n",
            " [12]]\n",
            "W1:  [[0.21820284 0.2868458 ]\n",
            " [0.22413136 0.29633635]]\n",
            "b1:  [[0.0187504 ]\n",
            " [0.01969946]]\n",
            "----------------------------------------\n",
            "A1:  [[3.79934094]\n",
            " [5.00996462]]\n",
            "****************************************\n",
            "A1:  [[3.79934094]\n",
            " [5.00996462]]\n",
            "W2:  [[0.3162686 ]\n",
            " [0.35122387]]\n",
            "b2:  [[0.09176186]]\n",
            "----------------------------------------\n",
            "A2:  [[3.05299325]]\n",
            "****************************************\n",
            "Epoch -  3 Loss -  10.139874435827522\n",
            "A0:  [[8]\n",
            " [8]]\n",
            "W1:  [[0.23186978 0.31964643]\n",
            " [0.23955518 0.33335352]]\n",
            "b1:  [[0.02148378]\n",
            " [0.02278422]]\n",
            "----------------------------------------\n",
            "A1:  [[3.79288343]\n",
            " [5.24678381]]\n",
            "****************************************\n",
            "A1:  [[3.79288343]\n",
            " [5.24678381]]\n",
            "W2:  [[0.34626065]\n",
            " [0.39077259]]\n",
            "b2:  [[0.09965587]]\n",
            "----------------------------------------\n",
            "A2:  [[3.46328148]]\n",
            "****************************************\n",
            "A0:  [[7]\n",
            " [9]]\n",
            "W1:  [[0.23487825 0.32265491]\n",
            " [0.2429593  0.33675764]]\n",
            "b1:  [[0.02185984]\n",
            " [0.02320974]]\n",
            "----------------------------------------\n",
            "A1:  [[3.85264134]\n",
            " [5.31261285]]\n",
            "****************************************\n",
            "A1:  [[3.85264134]\n",
            " [5.31261285]]\n",
            "W2:  [[0.35033207]\n",
            " [0.39640469]]\n",
            "b2:  [[0.10072931]]\n",
            "----------------------------------------\n",
            "A2:  [[3.55637777]]\n",
            "****************************************\n",
            "A0:  [[ 6]\n",
            " [10]]\n",
            "W1:  [[0.24218353 0.3320474 ]\n",
            " [0.25128093 0.34745688]]\n",
            "b1:  [[0.02290345]\n",
            " [0.02439854]]\n",
            "----------------------------------------\n",
            "A1:  [[3.98881394]\n",
            " [5.49125174]]\n",
            "****************************************\n",
            "A1:  [[3.98881394]\n",
            " [5.49125174]]\n",
            "W2:  [[0.36145559]\n",
            " [0.4117435 ]]\n",
            "b2:  [[0.10361656]]\n",
            "----------------------------------------\n",
            "A2:  [[3.80638285]]\n",
            "****************************************\n",
            "A0:  [[ 5]\n",
            " [12]]\n",
            "W1:  [[0.25215892 0.34867307]\n",
            " [0.26275359 0.36657798]]\n",
            "b1:  [[0.02456602]\n",
            " [0.02631065]]\n",
            "----------------------------------------\n",
            "A1:  [[4.43840374]\n",
            " [6.16861171]]\n",
            "****************************************\n",
            "A1:  [[4.43840374]\n",
            " [6.16861171]]\n",
            "W2:  [[0.37895545]\n",
            " [0.43583491]]\n",
            "b2:  [[0.10800379]]\n",
            "----------------------------------------\n",
            "A2:  [[4.47845739]]\n",
            "****************************************\n",
            "Epoch -  4 Loss -  3.385561305106485\n",
            "A0:  [[8]\n",
            " [8]]\n",
            "W1:  [[0.26227885 0.37296089]\n",
            " [0.27452778 0.39483602]]\n",
            "b1:  [[0.02659   ]\n",
            " [0.02866549]]\n",
            "----------------------------------------\n",
            "A1:  [[4.32104303]\n",
            " [6.17104077]]\n",
            "****************************************\n",
            "A1:  [[4.32104303]\n",
            " [6.17104077]]\n",
            "W2:  [[0.4013387 ]\n",
            " [0.46694374]]\n",
            "b2:  [[0.11304688]]\n",
            "----------------------------------------\n",
            "A2:  [[4.72877753]]\n",
            "****************************************\n",
            "A0:  [[7]\n",
            " [9]]\n",
            "W1:  [[0.2576725  0.36835454]\n",
            " [0.26918789 0.38949613]]\n",
            "b1:  [[0.02601421]\n",
            " [0.027998  ]]\n",
            "----------------------------------------\n",
            "A1:  [[4.25241274]\n",
            " [6.111945  ]]\n",
            "****************************************\n",
            "A1:  [[4.25241274]\n",
            " [6.111945  ]]\n",
            "W2:  [[0.39504054]\n",
            " [0.45794911]]\n",
            "b2:  [[0.11158932]]\n",
            "----------------------------------------\n",
            "A2:  [[4.59042452]]\n",
            "****************************************\n",
            "A0:  [[ 6]\n",
            " [10]]\n",
            "W1:  [[0.25995766 0.3712926 ]\n",
            " [0.2718425  0.39290921]]\n",
            "b1:  [[0.02634066]\n",
            " [0.02837723]]\n",
            "----------------------------------------\n",
            "A1:  [[4.30451167]\n",
            " [6.18522495]]\n",
            "****************************************\n",
            "A1:  [[4.30451167]\n",
            " [6.18522495]]\n",
            "W2:  [[0.39852391]\n",
            " [0.46295572]]\n",
            "b2:  [[0.11240847]]\n",
            "----------------------------------------\n",
            "A2:  [[4.69134453]]\n",
            "****************************************\n",
            "A0:  [[ 5]\n",
            " [12]]\n",
            "W1:  [[0.26639295 0.38201809]\n",
            " [0.27936692 0.40544991]]\n",
            "b1:  [[0.02741321]\n",
            " [0.0296313 ]]\n",
            "----------------------------------------\n",
            "A1:  [[4.71178104]\n",
            " [6.80512062]]\n",
            "****************************************\n",
            "A1:  [[4.71178104]\n",
            " [6.80512062]]\n",
            "W2:  [[0.40979015]\n",
            " [0.47914437]]\n",
            "b2:  [[0.11502578]]\n",
            "----------------------------------------\n",
            "A2:  [[5.30650251]]\n",
            "****************************************\n",
            "Epoch -  5 Loss -  1.3198454128484565\n"
          ]
        },
        {
          "output_type": "execute_result",
          "data": {
            "text/plain": [
              "{'W1': array([[0.273603  , 0.3993222 ],\n",
              "        [0.28787155, 0.42586102]]),\n",
              " 'b1': array([[0.02885522],\n",
              "        [0.03133223]]),\n",
              " 'W2': array([[0.42574893],\n",
              "        [0.50219328]]),\n",
              " 'b2': array([[0.11841278]])}"
            ]
          },
          "metadata": {},
          "execution_count": 37
        }
      ]
    },
    {
      "cell_type": "code",
      "source": [],
      "metadata": {
        "id": "R_J6XCJbU_x5"
      },
      "execution_count": null,
      "outputs": []
    }
  ]
}